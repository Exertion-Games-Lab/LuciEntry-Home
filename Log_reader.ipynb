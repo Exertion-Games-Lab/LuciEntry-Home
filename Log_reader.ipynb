{
 "cells": [
  {
   "cell_type": "code",
   "execution_count": 29,
   "metadata": {},
   "outputs": [],
   "source": [
    "import os\n",
    "import numpy as np\n",
    "import re"
   ]
  },
  {
   "cell_type": "code",
   "execution_count": 30,
   "metadata": {},
   "outputs": [],
   "source": [
    "file_path = 'C:/Users/rohan/Downloads/05_07_2024_Cosmos_log.txt'\n",
    "\n",
    "# Open the file in read mode and store its contents as a string\n",
    "with open(file_path, 'r') as file:\n",
    "    file_contents = file.read()\n",
    "    \n",
    "\n",
    "# Print the contents of the file\n",
    "#print(file_contents)"
   ]
  },
  {
   "cell_type": "code",
   "execution_count": 31,
   "metadata": {},
   "outputs": [],
   "source": [
    "row_size = 158\n",
    "file_size = os.path.getsize(file_path)\n",
    "num_rows = file_size // row_size\n",
    "row_index_arr = [0]\n",
    "start = 0\n",
    "while True:\n",
    "    index = file_contents.find('\\n', start)\n",
    "    if index == -1:\n",
    "        break\n",
    "    row_index_arr.append(index)\n",
    "    # print(f\"Newline found at index: {index}\")\n",
    "    start = index + 1\n",
    "    \n",
    "#print(row_index_arr)"
   ]
  },
  {
   "cell_type": "code",
   "execution_count": 32,
   "metadata": {},
   "outputs": [],
   "source": [
    "nat_a_model_sleep_stage  = []\n",
    "nat_model_sleep_period = []\n",
    "yasa_sleep_stage = []\n",
    "yasa_sleep_period = []\n",
    "\n",
    "for i in range(len(row_index_arr)-1):\n",
    "    start_index = i \n",
    "    stop_index = i+1\n",
    "    \n",
    "    current_state = file_contents[row_index_arr[i]:row_index_arr[i+1]]\n",
    "    #print(file_contents[row_index_arr[i]:row_index_arr[i+1]])\n",
    "    \n",
    "    \n",
    "    #########      nat_a_model_sleep_stage    #########\n",
    "    word_1 =  \"Nat'a model sleep stage: \"\n",
    "    indices_1 =  [i for i in range(len(current_state)) if current_state.startswith(word_1, i)]\n",
    "    rem_state_1 = current_state[indices_1[0]+len(word_1):indices_1[0]+len(word_1)+3]\n",
    "    if rem_state_1 == \"REM\":\n",
    "        nat_a_model_sleep_stage.append(i)\n",
    "        \n",
    "    \n",
    "    #########      nat_model_sleep_period    #########\n",
    "    word_2 =  \"Nat's model sleep Period: \"\n",
    "    indices_2 =  [i for i in range(len(current_state)) if current_state.startswith(word_2, i)]\n",
    "    rem_state_2 = current_state[indices_2[0]+len(word_2):indices_2[0]+len(word_2)+3]\n",
    "    if rem_state_2 == \"REM\":\n",
    "        nat_model_sleep_period.append(i)\n",
    "    \n",
    "    \n",
    "    #########      yasa_sleep_stage    #########\n",
    "    word_3 =  \"Yasa sleep stage: \"\n",
    "    indices_3 =  [i for i in range(len(current_state)) if current_state.startswith(word_3, i)]\n",
    "    rem_state_3 = current_state[indices_3[0]+len(word_3):indices_3[0]+len(word_3)+3]\n",
    "    if rem_state_3 == \"REM\":\n",
    "        yasa_sleep_stage.append(i)\n",
    "        \n",
    "        \n",
    "    #########      yasa_sleep_period    #########\n",
    "    word_4 =  \"Nat's model sleep Period: \"\n",
    "    indices_4 =  [i for i in range(len(current_state)) if current_state.startswith(word_4, i)]\n",
    "    rem_state_4 = current_state[indices_4[0]+len(word_4):indices_4[0]+len(word_4)+3]\n",
    "    if rem_state_4 == \"REM\":\n",
    "        yasa_sleep_period.append(i)\n",
    "        \n",
    "        \n",
    "#print(nat_a_model_sleep_stage)\n",
    "#print(nat_model_sleep_period) \n",
    "#print(yasa_sleep_stage)\n",
    "#print(yasa_sleep_period)        \n",
    "\n",
    "        \n",
    "        \n",
    "     \n",
    "    "
   ]
  },
  {
   "cell_type": "code",
   "execution_count": 33,
   "metadata": {},
   "outputs": [],
   "source": [
    "def find_successive_ranges(arr):\n",
    "    if not arr:\n",
    "        return []\n",
    "\n",
    "    ranges = []\n",
    "    start = 0\n",
    "\n",
    "    for i in range(1, len(arr)):\n",
    "        if arr[i] != arr[i - 1] + 1:\n",
    "            if i - 1 > start:  # Ensure there's a range of at least two consecutive numbers\n",
    "                ranges.append([arr[start], arr[i - 1]])\n",
    "            start = i\n",
    "\n",
    "    # Check the last range\n",
    "    if len(arr) > 1 and arr[-1] == arr[-2] + 1:\n",
    "        ranges.append([arr[start], arr[-1]])\n",
    "\n",
    "    return ranges\n"
   ]
  },
  {
   "cell_type": "code",
   "execution_count": 34,
   "metadata": {},
   "outputs": [],
   "source": [
    "######    Finding the rem time range for each model ######\n",
    "nat_a_model_sleep_stage_rem_time = find_successive_ranges(nat_a_model_sleep_stage)\n",
    "#print(nat_a_model_sleep_stage_rem_time)\n",
    "nat_model_sleep_period_rem_time = find_successive_ranges(nat_model_sleep_period)\n",
    "#print(nat_model_sleep_period_rem_time)\n",
    "yasa_sleep_stage_rem_time = find_successive_ranges(yasa_sleep_stage)\n",
    "#print(yasa_sleep_stage_rem_time)\n",
    "yasa_sleep_period_rem_time = find_successive_ranges(yasa_sleep_period)\n",
    "#print(yasa_sleep_period_rem_time)"
   ]
  },
  {
   "cell_type": "code",
   "execution_count": 35,
   "metadata": {},
   "outputs": [],
   "source": [
    "#print(file_contents)"
   ]
  },
  {
   "cell_type": "code",
   "execution_count": 36,
   "metadata": {},
   "outputs": [
    {
     "name": "stdout",
     "output_type": "stream",
     "text": [
      "Nat a model sleep stage\n",
      "06:45:09 06:45:45\n",
      "07:11:38 07:12:14\n",
      "07:13:27 07:14:11\n",
      "07:15:23 07:15:59\n",
      "07:16:35 07:17:11\n",
      "07:31:20 07:31:56\n",
      "07:32:32 07:33:08\n",
      "07:54:01 07:54:46\n",
      "08:16:53 08:17:29\n"
     ]
    }
   ],
   "source": [
    "##### Back tracking  ######\n",
    "print(\"Nat a model sleep stage\")\n",
    "for i in range(len(nat_a_model_sleep_stage_rem_time)):\n",
    "    start_idx = nat_a_model_sleep_stage_rem_time[i][0]\n",
    "    stop_idx = nat_a_model_sleep_stage_rem_time[i][1]\n",
    "    \n",
    "    \n",
    "    start_state = file_contents[row_index_arr[start_idx]: row_index_arr[start_idx+1]]\n",
    "    stop_state = file_contents[row_index_arr[stop_idx]: row_index_arr[stop_idx+1]]\n",
    "    #print(start_state)\n",
    "    #print(stop_state)\n",
    "    start_time =  start_state[12:20]\n",
    "    stop_time = stop_state[12:20]\n",
    "    \n",
    "    print(start_time,stop_time)\n",
    "\n",
    " "
   ]
  },
  {
   "cell_type": "code",
   "execution_count": 37,
   "metadata": {},
   "outputs": [
    {
     "name": "stdout",
     "output_type": "stream",
     "text": [
      "Nat  model sleep period\n",
      "06:45:25 06:45:56\n",
      "07:11:54 07:12:25\n",
      "07:13:47 07:14:22\n",
      "07:15:39 07:16:10\n",
      "07:16:51 07:17:22\n",
      "07:31:35 07:32:06\n",
      "07:32:47 07:33:18\n",
      "07:54:21 07:54:56\n",
      "08:17:08 08:17:39\n"
     ]
    }
   ],
   "source": [
    "print(\"Nat  model sleep period\")\n",
    "for i in range(len(nat_model_sleep_period_rem_time)):\n",
    "    start_idx = nat_model_sleep_period_rem_time[i][0]\n",
    "    stop_idx = nat_model_sleep_period_rem_time[i][1]\n",
    "    \n",
    "    \n",
    "    start_state = file_contents[row_index_arr[start_idx]: row_index_arr[start_idx+1]]\n",
    "    stop_state = file_contents[row_index_arr[stop_idx]: row_index_arr[stop_idx+1]]\n",
    "    #print(start_state)\n",
    "    #print(stop_state)\n",
    "    start_time =  start_state[12:20]\n",
    "    stop_time = stop_state[12:20]\n",
    "    \n",
    "    print(start_time,stop_time)\n"
   ]
  },
  {
   "cell_type": "code",
   "execution_count": 38,
   "metadata": {},
   "outputs": [
    {
     "name": "stdout",
     "output_type": "stream",
     "text": [
      "Yasa model sleep stage\n",
      "05:24:34 05:25:09\n",
      "06:23:39 06:24:14\n",
      "06:31:01 06:31:37\n",
      "06:32:13 06:32:49\n",
      "06:39:00 06:39:36\n",
      "08:12:31 08:13:07\n",
      "08:27:16 08:27:52\n",
      "08:40:47 08:41:23\n",
      "08:42:08 08:42:44\n",
      "08:45:45 08:46:21\n",
      "08:52:31 08:54:55\n",
      "09:03:36 09:04:11\n",
      "09:19:31 09:20:07\n",
      "10:06:52 10:07:28\n",
      "10:15:27 10:16:03\n",
      "10:22:13 10:22:49\n",
      "10:23:34 10:24:10\n"
     ]
    }
   ],
   "source": [
    "print(\"Yasa model sleep stage\")\n",
    "for i in range(len(yasa_sleep_stage_rem_time)):\n",
    "    start_idx = yasa_sleep_stage_rem_time[i][0]\n",
    "    stop_idx = yasa_sleep_stage_rem_time[i][1]\n",
    "    \n",
    "    \n",
    "    start_state = file_contents[row_index_arr[start_idx]: row_index_arr[start_idx+1]]\n",
    "    stop_state = file_contents[row_index_arr[stop_idx]: row_index_arr[stop_idx+1]]\n",
    "    #print(start_state)\n",
    "    #print(stop_state)\n",
    "    start_time =  start_state[12:20]\n",
    "    stop_time = stop_state[12:20]\n",
    "    \n",
    "    print(start_time,stop_time)\n"
   ]
  },
  {
   "cell_type": "code",
   "execution_count": 39,
   "metadata": {},
   "outputs": [
    {
     "name": "stdout",
     "output_type": "stream",
     "text": [
      "Yasa model sleep period\n",
      "06:45:25 06:45:56\n",
      "07:11:54 07:12:25\n",
      "07:13:47 07:14:22\n",
      "07:15:39 07:16:10\n",
      "07:16:51 07:17:22\n",
      "07:31:35 07:32:06\n",
      "07:32:47 07:33:18\n",
      "07:54:21 07:54:56\n",
      "08:17:08 08:17:39\n"
     ]
    }
   ],
   "source": [
    "print(\"Yasa model sleep period\")\n",
    "for i in range(len(yasa_sleep_period_rem_time)):\n",
    "    start_idx = yasa_sleep_period_rem_time[i][0]\n",
    "    stop_idx = yasa_sleep_period_rem_time[i][1]\n",
    "    \n",
    "    \n",
    "    start_state = file_contents[row_index_arr[start_idx]: row_index_arr[start_idx+1]]\n",
    "    stop_state = file_contents[row_index_arr[stop_idx]: row_index_arr[stop_idx+1]]\n",
    "    #print(start_state)\n",
    "    #print(stop_state)\n",
    "    start_time =  start_state[12:20]\n",
    "    stop_time = stop_state[12:20]\n",
    "    \n",
    "    print(start_time,stop_time)"
   ]
  }
 ],
 "metadata": {
  "kernelspec": {
   "display_name": "Python 3",
   "language": "python",
   "name": "python3"
  },
  "language_info": {
   "codemirror_mode": {
    "name": "ipython",
    "version": 3
   },
   "file_extension": ".py",
   "mimetype": "text/x-python",
   "name": "python",
   "nbconvert_exporter": "python",
   "pygments_lexer": "ipython3",
   "version": "3.12.4"
  }
 },
 "nbformat": 4,
 "nbformat_minor": 2
}
